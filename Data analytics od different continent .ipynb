{
 "cells": [
  {
   "cell_type": "code",
   "execution_count": 1,
   "id": "fe34f2d2",
   "metadata": {},
   "outputs": [],
   "source": [
    "import pandas as pd\n",
    "import numpy as np\n",
    "import matplotlib.pyplot as plt"
   ]
  },
  {
   "cell_type": "code",
   "execution_count": 2,
   "id": "4a940aa5",
   "metadata": {},
   "outputs": [],
   "source": [
    "df = pd.read_table(\"C:\\\\Users\\\\user\\\\Desktop\\\\11.txt\")"
   ]
  },
  {
   "cell_type": "code",
   "execution_count": 3,
   "id": "4f0d8d8d",
   "metadata": {},
   "outputs": [
    {
     "data": {
      "text/html": [
       "<div>\n",
       "<style scoped>\n",
       "    .dataframe tbody tr th:only-of-type {\n",
       "        vertical-align: middle;\n",
       "    }\n",
       "\n",
       "    .dataframe tbody tr th {\n",
       "        vertical-align: top;\n",
       "    }\n",
       "\n",
       "    .dataframe thead th {\n",
       "        text-align: right;\n",
       "    }\n",
       "</style>\n",
       "<table border=\"1\" class=\"dataframe\">\n",
       "  <thead>\n",
       "    <tr style=\"text-align: right;\">\n",
       "      <th></th>\n",
       "      <th>country</th>\n",
       "      <th>continent</th>\n",
       "      <th>year</th>\n",
       "      <th>lifeExp</th>\n",
       "      <th>pop</th>\n",
       "      <th>gdpPercap</th>\n",
       "    </tr>\n",
       "  </thead>\n",
       "  <tbody>\n",
       "    <tr>\n",
       "      <th>0</th>\n",
       "      <td>Afghanistan</td>\n",
       "      <td>Asia</td>\n",
       "      <td>1952</td>\n",
       "      <td>28.801</td>\n",
       "      <td>8425333</td>\n",
       "      <td>779.445314</td>\n",
       "    </tr>\n",
       "    <tr>\n",
       "      <th>1</th>\n",
       "      <td>Afghanistan</td>\n",
       "      <td>Asia</td>\n",
       "      <td>1957</td>\n",
       "      <td>30.332</td>\n",
       "      <td>9240934</td>\n",
       "      <td>820.853030</td>\n",
       "    </tr>\n",
       "    <tr>\n",
       "      <th>2</th>\n",
       "      <td>Afghanistan</td>\n",
       "      <td>Asia</td>\n",
       "      <td>1962</td>\n",
       "      <td>31.997</td>\n",
       "      <td>10267083</td>\n",
       "      <td>853.100710</td>\n",
       "    </tr>\n",
       "    <tr>\n",
       "      <th>3</th>\n",
       "      <td>Afghanistan</td>\n",
       "      <td>Asia</td>\n",
       "      <td>1967</td>\n",
       "      <td>34.020</td>\n",
       "      <td>11537966</td>\n",
       "      <td>836.197138</td>\n",
       "    </tr>\n",
       "    <tr>\n",
       "      <th>4</th>\n",
       "      <td>Afghanistan</td>\n",
       "      <td>Asia</td>\n",
       "      <td>1972</td>\n",
       "      <td>36.088</td>\n",
       "      <td>13079460</td>\n",
       "      <td>739.981106</td>\n",
       "    </tr>\n",
       "    <tr>\n",
       "      <th>...</th>\n",
       "      <td>...</td>\n",
       "      <td>...</td>\n",
       "      <td>...</td>\n",
       "      <td>...</td>\n",
       "      <td>...</td>\n",
       "      <td>...</td>\n",
       "    </tr>\n",
       "    <tr>\n",
       "      <th>3308</th>\n",
       "      <td>Zimbabwe</td>\n",
       "      <td>Africa</td>\n",
       "      <td>1987</td>\n",
       "      <td>62.351</td>\n",
       "      <td>9216418</td>\n",
       "      <td>706.157306</td>\n",
       "    </tr>\n",
       "    <tr>\n",
       "      <th>3309</th>\n",
       "      <td>Zimbabwe</td>\n",
       "      <td>Africa</td>\n",
       "      <td>1992</td>\n",
       "      <td>60.377</td>\n",
       "      <td>10704340</td>\n",
       "      <td>693.420786</td>\n",
       "    </tr>\n",
       "    <tr>\n",
       "      <th>3310</th>\n",
       "      <td>Zimbabwe</td>\n",
       "      <td>Africa</td>\n",
       "      <td>1997</td>\n",
       "      <td>46.809</td>\n",
       "      <td>11404948</td>\n",
       "      <td>792.449960</td>\n",
       "    </tr>\n",
       "    <tr>\n",
       "      <th>3311</th>\n",
       "      <td>Zimbabwe</td>\n",
       "      <td>Africa</td>\n",
       "      <td>2002</td>\n",
       "      <td>39.989</td>\n",
       "      <td>11926563</td>\n",
       "      <td>672.038623</td>\n",
       "    </tr>\n",
       "    <tr>\n",
       "      <th>3312</th>\n",
       "      <td>Zimbabwe</td>\n",
       "      <td>Africa</td>\n",
       "      <td>2007</td>\n",
       "      <td>43.487</td>\n",
       "      <td>12311143</td>\n",
       "      <td>469.709298</td>\n",
       "    </tr>\n",
       "  </tbody>\n",
       "</table>\n",
       "<p>3313 rows × 6 columns</p>\n",
       "</div>"
      ],
      "text/plain": [
       "          country continent  year  lifeExp       pop   gdpPercap\n",
       "0     Afghanistan      Asia  1952   28.801   8425333  779.445314\n",
       "1     Afghanistan      Asia  1957   30.332   9240934  820.853030\n",
       "2     Afghanistan      Asia  1962   31.997  10267083  853.100710\n",
       "3     Afghanistan      Asia  1967   34.020  11537966  836.197138\n",
       "4     Afghanistan      Asia  1972   36.088  13079460  739.981106\n",
       "...           ...       ...   ...      ...       ...         ...\n",
       "3308     Zimbabwe    Africa  1987   62.351   9216418  706.157306\n",
       "3309     Zimbabwe    Africa  1992   60.377  10704340  693.420786\n",
       "3310     Zimbabwe    Africa  1997   46.809  11404948  792.449960\n",
       "3311     Zimbabwe    Africa  2002   39.989  11926563  672.038623\n",
       "3312     Zimbabwe    Africa  2007   43.487  12311143  469.709298\n",
       "\n",
       "[3313 rows x 6 columns]"
      ]
     },
     "execution_count": 3,
     "metadata": {},
     "output_type": "execute_result"
    }
   ],
   "source": [
    "df"
   ]
  },
  {
   "cell_type": "code",
   "execution_count": 4,
   "id": "42a3d572",
   "metadata": {},
   "outputs": [
    {
     "name": "stdout",
     "output_type": "stream",
     "text": [
      "       country continent  year  lifeExp       pop   gdpPercap\n",
      "0  Afghanistan      Asia  1952   28.801   8425333  779.445314\n",
      "1  Afghanistan      Asia  1957   30.332   9240934  820.853030\n",
      "2  Afghanistan      Asia  1962   31.997  10267083  853.100710\n",
      "3  Afghanistan      Asia  1967   34.020  11537966  836.197138\n",
      "4  Afghanistan      Asia  1972   36.088  13079460  739.981106\n"
     ]
    }
   ],
   "source": [
    "print(df.head())"
   ]
  },
  {
   "cell_type": "code",
   "execution_count": 5,
   "id": "c4f6b634",
   "metadata": {},
   "outputs": [
    {
     "name": "stdout",
     "output_type": "stream",
     "text": [
      "(3313, 6)\n"
     ]
    }
   ],
   "source": [
    "print(df.shape)"
   ]
  },
  {
   "cell_type": "code",
   "execution_count": 6,
   "id": "5cdb65eb",
   "metadata": {},
   "outputs": [
    {
     "name": "stdout",
     "output_type": "stream",
     "text": [
      "Index(['country', 'continent', 'year', 'lifeExp', 'pop', 'gdpPercap'], dtype='object')\n"
     ]
    }
   ],
   "source": [
    "print(df.columns)"
   ]
  },
  {
   "cell_type": "code",
   "execution_count": 7,
   "id": "b8f57964",
   "metadata": {},
   "outputs": [
    {
     "name": "stdout",
     "output_type": "stream",
     "text": [
      "country       object\n",
      "continent     object\n",
      "year           int64\n",
      "lifeExp      float64\n",
      "pop            int64\n",
      "gdpPercap    float64\n",
      "dtype: object\n"
     ]
    }
   ],
   "source": [
    "print(df.dtypes)   #(object=string=most common data type)  #(int64=int=whole numbers)  #(float64=float=numbers with decimals)  #datetime64=datetime=datetime is found in the python standard library(i.e., it is not loaded by default and needs to be imported)"
   ]
  },
  {
   "cell_type": "code",
   "execution_count": 8,
   "id": "f7f43a2c",
   "metadata": {},
   "outputs": [
    {
     "name": "stdout",
     "output_type": "stream",
     "text": [
      "<class 'pandas.core.frame.DataFrame'>\n",
      "RangeIndex: 3313 entries, 0 to 3312\n",
      "Data columns (total 6 columns):\n",
      " #   Column     Non-Null Count  Dtype  \n",
      "---  ------     --------------  -----  \n",
      " 0   country    3313 non-null   object \n",
      " 1   continent  3313 non-null   object \n",
      " 2   year       3313 non-null   int64  \n",
      " 3   lifeExp    3313 non-null   float64\n",
      " 4   pop        3313 non-null   int64  \n",
      " 5   gdpPercap  3313 non-null   float64\n",
      "dtypes: float64(2), int64(2), object(2)\n",
      "memory usage: 155.4+ KB\n",
      "None\n"
     ]
    }
   ],
   "source": [
    "print(df.info())    # here, Non-Null means that there is no missing value all the value is given"
   ]
  },
  {
   "cell_type": "code",
   "execution_count": 9,
   "id": "295fdec4",
   "metadata": {},
   "outputs": [],
   "source": [
    "country_df = df['country']"
   ]
  },
  {
   "cell_type": "code",
   "execution_count": 10,
   "id": "6b0fa9bb",
   "metadata": {},
   "outputs": [
    {
     "name": "stdout",
     "output_type": "stream",
     "text": [
      "0    Afghanistan\n",
      "1    Afghanistan\n",
      "2    Afghanistan\n",
      "3    Afghanistan\n",
      "4    Afghanistan\n",
      "Name: country, dtype: object\n"
     ]
    }
   ],
   "source": [
    "print((country_df.head()))"
   ]
  },
  {
   "cell_type": "code",
   "execution_count": 11,
   "id": "ecefc311",
   "metadata": {},
   "outputs": [
    {
     "name": "stdout",
     "output_type": "stream",
     "text": [
      "3308    Zimbabwe\n",
      "3309    Zimbabwe\n",
      "3310    Zimbabwe\n",
      "3311    Zimbabwe\n",
      "3312    Zimbabwe\n",
      "Name: country, dtype: object\n"
     ]
    }
   ],
   "source": [
    "print((country_df.tail()))"
   ]
  },
  {
   "cell_type": "code",
   "execution_count": 12,
   "id": "9d2d2fe4",
   "metadata": {},
   "outputs": [],
   "source": [
    "subset = df[['country','continent','year']]"
   ]
  },
  {
   "cell_type": "code",
   "execution_count": 13,
   "id": "8cbafa63",
   "metadata": {},
   "outputs": [
    {
     "name": "stdout",
     "output_type": "stream",
     "text": [
      "       country continent  year\n",
      "0  Afghanistan      Asia  1952\n",
      "1  Afghanistan      Asia  1957\n",
      "2  Afghanistan      Asia  1962\n",
      "3  Afghanistan      Asia  1967\n",
      "4  Afghanistan      Asia  1972\n"
     ]
    }
   ],
   "source": [
    "print(subset.head())"
   ]
  },
  {
   "cell_type": "code",
   "execution_count": 14,
   "id": "d5fce434",
   "metadata": {},
   "outputs": [
    {
     "name": "stdout",
     "output_type": "stream",
     "text": [
      "       country continent  year\n",
      "3308  Zimbabwe    Africa  1987\n",
      "3309  Zimbabwe    Africa  1992\n",
      "3310  Zimbabwe    Africa  1997\n",
      "3311  Zimbabwe    Africa  2002\n",
      "3312  Zimbabwe    Africa  2007\n"
     ]
    }
   ],
   "source": [
    "print(subset.tail())"
   ]
  },
  {
   "cell_type": "code",
   "execution_count": 15,
   "id": "a4ae586a",
   "metadata": {},
   "outputs": [
    {
     "name": "stdout",
     "output_type": "stream",
     "text": [
      "country      Afghanistan\n",
      "continent           Asia\n",
      "year                1952\n",
      "lifeExp           28.801\n",
      "pop              8425333\n",
      "gdpPercap     779.445314\n",
      "Name: 0, dtype: object\n"
     ]
    }
   ],
   "source": [
    "print(df.loc[0])"
   ]
  },
  {
   "cell_type": "code",
   "execution_count": 16,
   "id": "751bf762",
   "metadata": {},
   "outputs": [
    {
     "name": "stdout",
     "output_type": "stream",
     "text": [
      "country        Australia\n",
      "continent        Oceania\n",
      "year                1977\n",
      "lifeExp            73.49\n",
      "pop             14074100\n",
      "gdpPercap    18334.19751\n",
      "Name: 99, dtype: object\n"
     ]
    }
   ],
   "source": [
    "print(df.loc[99])"
   ]
  },
  {
   "cell_type": "code",
   "execution_count": 17,
   "id": "3f7c03ee",
   "metadata": {},
   "outputs": [
    {
     "name": "stdout",
     "output_type": "stream",
     "text": [
      "       country continent  year  lifeExp       pop   gdpPercap\n",
      "3312  Zimbabwe    Africa  2007   43.487  12311143  469.709298\n"
     ]
    }
   ],
   "source": [
    "print(df.tail(n=1))"
   ]
  },
  {
   "cell_type": "code",
   "execution_count": 18,
   "id": "ac7a8773",
   "metadata": {},
   "outputs": [
    {
     "name": "stdout",
     "output_type": "stream",
     "text": [
      "         country continent  year  lifeExp       pop     gdpPercap\n",
      "0    Afghanistan      Asia  1952   28.801   8425333    779.445314\n",
      "99     Australia   Oceania  1977   73.490  14074100  18334.197510\n",
      "999      Finland    Europe  1963   69.160   4523309   9612.397646\n"
     ]
    }
   ],
   "source": [
    "print(df.loc[[0,99,999]])"
   ]
  },
  {
   "cell_type": "code",
   "execution_count": 19,
   "id": "46641f74",
   "metadata": {},
   "outputs": [
    {
     "name": "stdout",
     "output_type": "stream",
     "text": [
      "         country continent  year  lifeExp       pop     gdpPercap\n",
      "0    Afghanistan      Asia  1952   28.801   8425333    779.445314\n",
      "5    Afghanistan      Asia  1977   38.438  14880372    786.113360\n",
      "99     Australia   Oceania  1977   73.490  14074100  18334.197510\n",
      "999      Finland    Europe  1963   69.160   4523309   9612.397646\n"
     ]
    }
   ],
   "source": [
    "print(df.loc[[0,5,99,999]])"
   ]
  },
  {
   "cell_type": "code",
   "execution_count": 20,
   "id": "f3cba0e0",
   "metadata": {},
   "outputs": [
    {
     "name": "stdout",
     "output_type": "stream",
     "text": [
      "country      Afghanistan\n",
      "continent           Asia\n",
      "year                1957\n",
      "lifeExp           30.332\n",
      "pop              9240934\n",
      "gdpPercap      820.85303\n",
      "Name: 1, dtype: object\n"
     ]
    }
   ],
   "source": [
    "print(df.iloc[1])"
   ]
  },
  {
   "cell_type": "code",
   "execution_count": 21,
   "id": "7b10ad73",
   "metadata": {},
   "outputs": [
    {
     "name": "stdout",
     "output_type": "stream",
     "text": [
      "country        Australia\n",
      "continent        Oceania\n",
      "year                1977\n",
      "lifeExp            73.49\n",
      "pop             14074100\n",
      "gdpPercap    18334.19751\n",
      "Name: 99, dtype: object\n"
     ]
    }
   ],
   "source": [
    "print(df.iloc[99])"
   ]
  },
  {
   "cell_type": "code",
   "execution_count": 22,
   "id": "6e2ce318",
   "metadata": {},
   "outputs": [
    {
     "name": "stdout",
     "output_type": "stream",
     "text": [
      "country        Zimbabwe\n",
      "continent        Africa\n",
      "year               2007\n",
      "lifeExp          43.487\n",
      "pop            12311143\n",
      "gdpPercap    469.709298\n",
      "Name: 3312, dtype: object\n"
     ]
    }
   ],
   "source": [
    "print(df.iloc[-1]) # here -1 indicate 1st from the last"
   ]
  },
  {
   "cell_type": "markdown",
   "id": "867eb478",
   "metadata": {},
   "source": [
    "with (iloc) we can pass in the -1 to get the last row---samething we couldn't do with (loc)"
   ]
  },
  {
   "cell_type": "code",
   "execution_count": 23,
   "id": "79b0f82a",
   "metadata": {},
   "outputs": [
    {
     "name": "stdout",
     "output_type": "stream",
     "text": [
      "         country continent  year  lifeExp       pop     gdpPercap\n",
      "0    Afghanistan      Asia  1952   28.801   8425333    779.445314\n",
      "99     Australia   Oceania  1977   73.490  14074100  18334.197510\n",
      "999      Finland    Europe  1963   69.160   4523309   9612.397646\n"
     ]
    }
   ],
   "source": [
    "print(df.iloc[[0,99,999]])"
   ]
  },
  {
   "cell_type": "markdown",
   "id": "f983ff66",
   "metadata": {},
   "source": [
    "the python slicing syntax uses a colon,:\n",
    "if we have just a colon, the attribute refers to everything.\n",
    "so, if we just want to get the first column using the loc or iloc syntax,we can write something like df.loc [:,[column]] to subset the column(s)."
   ]
  },
  {
   "cell_type": "markdown",
   "id": "d9ea0b77",
   "metadata": {},
   "source": [
    "#subset columns with loc\n",
    "#note the position of the colon\n",
    "#it is used to select all rows"
   ]
  },
  {
   "cell_type": "code",
   "execution_count": 24,
   "id": "1986b012",
   "metadata": {},
   "outputs": [],
   "source": [
    "subset = df.loc[:,['year','pop']]"
   ]
  },
  {
   "cell_type": "code",
   "execution_count": 25,
   "id": "99833bc8",
   "metadata": {},
   "outputs": [
    {
     "data": {
      "text/html": [
       "<div>\n",
       "<style scoped>\n",
       "    .dataframe tbody tr th:only-of-type {\n",
       "        vertical-align: middle;\n",
       "    }\n",
       "\n",
       "    .dataframe tbody tr th {\n",
       "        vertical-align: top;\n",
       "    }\n",
       "\n",
       "    .dataframe thead th {\n",
       "        text-align: right;\n",
       "    }\n",
       "</style>\n",
       "<table border=\"1\" class=\"dataframe\">\n",
       "  <thead>\n",
       "    <tr style=\"text-align: right;\">\n",
       "      <th></th>\n",
       "      <th>year</th>\n",
       "      <th>pop</th>\n",
       "    </tr>\n",
       "  </thead>\n",
       "  <tbody>\n",
       "    <tr>\n",
       "      <th>0</th>\n",
       "      <td>1952</td>\n",
       "      <td>8425333</td>\n",
       "    </tr>\n",
       "    <tr>\n",
       "      <th>1</th>\n",
       "      <td>1957</td>\n",
       "      <td>9240934</td>\n",
       "    </tr>\n",
       "    <tr>\n",
       "      <th>2</th>\n",
       "      <td>1962</td>\n",
       "      <td>10267083</td>\n",
       "    </tr>\n",
       "    <tr>\n",
       "      <th>3</th>\n",
       "      <td>1967</td>\n",
       "      <td>11537966</td>\n",
       "    </tr>\n",
       "    <tr>\n",
       "      <th>4</th>\n",
       "      <td>1972</td>\n",
       "      <td>13079460</td>\n",
       "    </tr>\n",
       "  </tbody>\n",
       "</table>\n",
       "</div>"
      ],
      "text/plain": [
       "   year       pop\n",
       "0  1952   8425333\n",
       "1  1957   9240934\n",
       "2  1962  10267083\n",
       "3  1967  11537966\n",
       "4  1972  13079460"
      ]
     },
     "execution_count": 25,
     "metadata": {},
     "output_type": "execute_result"
    }
   ],
   "source": [
    "subset.head()"
   ]
  },
  {
   "cell_type": "code",
   "execution_count": 26,
   "id": "7db6a6de",
   "metadata": {},
   "outputs": [],
   "source": [
    "subset = df.iloc[:,[2,4,-1]]"
   ]
  },
  {
   "cell_type": "code",
   "execution_count": 27,
   "id": "cf5fd8d9",
   "metadata": {},
   "outputs": [
    {
     "name": "stdout",
     "output_type": "stream",
     "text": [
      "   year       pop   gdpPercap\n",
      "0  1952   8425333  779.445314\n",
      "1  1957   9240934  820.853030\n",
      "2  1962  10267083  853.100710\n",
      "3  1967  11537966  836.197138\n",
      "4  1972  13079460  739.981106\n"
     ]
    }
   ],
   "source": [
    "print(subset.head())"
   ]
  },
  {
   "cell_type": "code",
   "execution_count": 28,
   "id": "700ca840",
   "metadata": {},
   "outputs": [],
   "source": [
    "small_range=list(range(5))"
   ]
  },
  {
   "cell_type": "code",
   "execution_count": 29,
   "id": "e491cc70",
   "metadata": {},
   "outputs": [
    {
     "name": "stdout",
     "output_type": "stream",
     "text": [
      "[0, 1, 2, 3, 4]\n"
     ]
    }
   ],
   "source": [
    "print(small_range)"
   ]
  },
  {
   "cell_type": "code",
   "execution_count": 30,
   "id": "3e32642e",
   "metadata": {},
   "outputs": [
    {
     "data": {
      "text/html": [
       "<div>\n",
       "<style scoped>\n",
       "    .dataframe tbody tr th:only-of-type {\n",
       "        vertical-align: middle;\n",
       "    }\n",
       "\n",
       "    .dataframe tbody tr th {\n",
       "        vertical-align: top;\n",
       "    }\n",
       "\n",
       "    .dataframe thead th {\n",
       "        text-align: right;\n",
       "    }\n",
       "</style>\n",
       "<table border=\"1\" class=\"dataframe\">\n",
       "  <thead>\n",
       "    <tr style=\"text-align: right;\">\n",
       "      <th></th>\n",
       "      <th>country</th>\n",
       "      <th>continent</th>\n",
       "      <th>year</th>\n",
       "      <th>lifeExp</th>\n",
       "      <th>pop</th>\n",
       "    </tr>\n",
       "  </thead>\n",
       "  <tbody>\n",
       "    <tr>\n",
       "      <th>0</th>\n",
       "      <td>Afghanistan</td>\n",
       "      <td>Asia</td>\n",
       "      <td>1952</td>\n",
       "      <td>28.801</td>\n",
       "      <td>8425333</td>\n",
       "    </tr>\n",
       "    <tr>\n",
       "      <th>1</th>\n",
       "      <td>Afghanistan</td>\n",
       "      <td>Asia</td>\n",
       "      <td>1957</td>\n",
       "      <td>30.332</td>\n",
       "      <td>9240934</td>\n",
       "    </tr>\n",
       "    <tr>\n",
       "      <th>2</th>\n",
       "      <td>Afghanistan</td>\n",
       "      <td>Asia</td>\n",
       "      <td>1962</td>\n",
       "      <td>31.997</td>\n",
       "      <td>10267083</td>\n",
       "    </tr>\n",
       "    <tr>\n",
       "      <th>3</th>\n",
       "      <td>Afghanistan</td>\n",
       "      <td>Asia</td>\n",
       "      <td>1967</td>\n",
       "      <td>34.020</td>\n",
       "      <td>11537966</td>\n",
       "    </tr>\n",
       "    <tr>\n",
       "      <th>4</th>\n",
       "      <td>Afghanistan</td>\n",
       "      <td>Asia</td>\n",
       "      <td>1972</td>\n",
       "      <td>36.088</td>\n",
       "      <td>13079460</td>\n",
       "    </tr>\n",
       "  </tbody>\n",
       "</table>\n",
       "</div>"
      ],
      "text/plain": [
       "       country continent  year  lifeExp       pop\n",
       "0  Afghanistan      Asia  1952   28.801   8425333\n",
       "1  Afghanistan      Asia  1957   30.332   9240934\n",
       "2  Afghanistan      Asia  1962   31.997  10267083\n",
       "3  Afghanistan      Asia  1967   34.020  11537966\n",
       "4  Afghanistan      Asia  1972   36.088  13079460"
      ]
     },
     "execution_count": 30,
     "metadata": {},
     "output_type": "execute_result"
    }
   ],
   "source": [
    "subset = df.iloc[:,small_range]\n",
    "subset.head()"
   ]
  },
  {
   "cell_type": "code",
   "execution_count": 31,
   "id": "525d566a",
   "metadata": {},
   "outputs": [
    {
     "name": "stdout",
     "output_type": "stream",
     "text": [
      "Angola\n"
     ]
    }
   ],
   "source": [
    "print(df.loc[42,'country']) #using loc #here, (42 is row) and (country is coloumn)"
   ]
  },
  {
   "cell_type": "code",
   "execution_count": 32,
   "id": "6df2243f",
   "metadata": {},
   "outputs": [
    {
     "name": "stdout",
     "output_type": "stream",
     "text": [
      "Angola\n"
     ]
    }
   ],
   "source": [
    "print(df.iloc[42,0]) #using iloc  #here, (42 is row) and (country=0 is coloumn)"
   ]
  },
  {
   "cell_type": "code",
   "execution_count": 33,
   "id": "e6efe28b",
   "metadata": {},
   "outputs": [
    {
     "name": "stdout",
     "output_type": "stream",
     "text": [
      "         country  lifeExp     gdpPercap\n",
      "0    Afghanistan   28.801    779.445314\n",
      "99     Australia   73.490  18334.197510\n",
      "999      Finland   69.160   9612.397646\n"
     ]
    }
   ],
   "source": [
    "print(df.iloc[[0,99,999], [0,3,5]]) #using iloc  #0,99,999 (is the value of row) #0,3,5 (is the value of column)   "
   ]
  },
  {
   "cell_type": "code",
   "execution_count": 34,
   "id": "f459a4e2",
   "metadata": {},
   "outputs": [
    {
     "name": "stdout",
     "output_type": "stream",
     "text": [
      "         country  lifeExp     gdpPercap\n",
      "0    Afghanistan   28.801    779.445314\n",
      "99     Australia   73.490  18334.197510\n",
      "999      Finland   69.160   9612.397646\n"
     ]
    }
   ],
   "source": [
    "print(df.loc[[0,99,999], ['country','lifeExp','gdpPercap']]) #using loc"
   ]
  },
  {
   "cell_type": "code",
   "execution_count": 35,
   "id": "cbaf685d",
   "metadata": {},
   "outputs": [
    {
     "name": "stdout",
     "output_type": "stream",
     "text": [
      "        country  lifeExp    gdpPercap\n",
      "10  Afghanistan   42.129   726.734055\n",
      "11  Afghanistan   43.828   974.580338\n",
      "12      Albania   55.230  1601.056136\n",
      "13      Albania   59.280  1942.284244\n"
     ]
    }
   ],
   "source": [
    "print(df.loc[10:13, ['country','lifeExp','gdpPercap']]) #here, it means from row 10 to 13"
   ]
  },
  {
   "cell_type": "code",
   "execution_count": 36,
   "id": "35c09da6",
   "metadata": {},
   "outputs": [
    {
     "name": "stdout",
     "output_type": "stream",
     "text": [
      "       country continent  year  lifeExp       pop   gdpPercap\n",
      "0  Afghanistan      Asia  1952   28.801   8425333  779.445314\n",
      "1  Afghanistan      Asia  1957   30.332   9240934  820.853030\n",
      "2  Afghanistan      Asia  1962   31.997  10267083  853.100710\n",
      "3  Afghanistan      Asia  1967   34.020  11537966  836.197138\n",
      "4  Afghanistan      Asia  1972   36.088  13079460  739.981106\n",
      "5  Afghanistan      Asia  1977   38.438  14880372  786.113360\n",
      "6  Afghanistan      Asia  1982   39.854  12881816  978.011439\n",
      "7  Afghanistan      Asia  1987   40.822  13867957  852.395945\n",
      "8  Afghanistan      Asia  1992   41.674  16317921  649.341395\n",
      "9  Afghanistan      Asia  1997   41.763  22227415  635.341351\n"
     ]
    }
   ],
   "source": [
    "print(df.head(n=10))   #here its means data from 0 to 10"
   ]
  },
  {
   "cell_type": "markdown",
   "id": "55120022",
   "metadata": {},
   "source": [
    "#for each year in our data, what was the average life expectancy ?\n",
    "#to answer this question,\n",
    "#we need to split our data into parts by year;\n",
    "#then we get the 'lifeExp' column and calculate the mean"
   ]
  },
  {
   "cell_type": "code",
   "execution_count": 37,
   "id": "19777fbf",
   "metadata": {},
   "outputs": [
    {
     "name": "stdout",
     "output_type": "stream",
     "text": [
      "year\n",
      "1950    62.002568\n",
      "1951    65.904167\n",
      "1952    49.170708\n",
      "1953    66.674563\n",
      "1954    67.459817\n",
      "1955    67.806757\n",
      "1956    67.950637\n",
      "1957    51.614590\n",
      "1958    68.815936\n",
      "1959    68.226579\n",
      "1960    68.470837\n",
      "1961    68.862480\n",
      "1962    54.035234\n",
      "1963    69.595735\n",
      "1964    70.063105\n",
      "1965    70.259881\n",
      "1966    70.447526\n",
      "1967    56.263629\n",
      "1968    70.689081\n",
      "1969    70.653896\n",
      "1970    70.961141\n",
      "1971    71.103976\n",
      "1972    58.474481\n",
      "1973    71.500338\n",
      "1974    71.778504\n",
      "1975    71.939218\n",
      "1976    72.158050\n",
      "1977    60.429090\n",
      "1978    72.717567\n",
      "1979    73.018717\n",
      "1980    73.064524\n",
      "1981    73.337399\n",
      "1982    62.365871\n",
      "1983    73.787778\n",
      "1984    74.100741\n",
      "1985    74.112222\n",
      "1986    74.452222\n",
      "1987    63.984860\n",
      "1988    74.760000\n",
      "1989    74.924444\n",
      "1990    74.283438\n",
      "1991    74.374848\n",
      "1992    65.008443\n",
      "1993    74.324545\n",
      "1994    74.456667\n",
      "1995    74.552727\n",
      "1996    75.029394\n",
      "1997    65.873799\n",
      "1998    75.569697\n",
      "1999    75.703636\n",
      "2000    76.026364\n",
      "2001    76.257879\n",
      "2002    66.835695\n",
      "2003    76.586667\n",
      "2004    76.921562\n",
      "2005    76.718667\n",
      "2006    77.887778\n",
      "2007    67.868557\n",
      "Name: lifeExp, dtype: float64\n"
     ]
    }
   ],
   "source": [
    "print(df.groupby('year')['lifeExp'].mean())"
   ]
  },
  {
   "cell_type": "code",
   "execution_count": 39,
   "id": "36c43a29",
   "metadata": {},
   "outputs": [],
   "source": [
    "multi_group_var = df.groupby(['year','continent'])[['lifeExp','gdpPercap']].mean()"
   ]
  },
  {
   "cell_type": "code",
   "execution_count": 40,
   "id": "52a5a793",
   "metadata": {},
   "outputs": [
    {
     "name": "stdout",
     "output_type": "stream",
     "text": [
      "                  lifeExp     gdpPercap\n",
      "year continent                         \n",
      "1950 Africa     41.361500   1422.081643\n",
      "     Americas   59.405286   5567.245762\n",
      "     Asia       53.675000   1363.645814\n",
      "     Europe     65.755916   6804.996873\n",
      "     FSU        59.950000   3638.203164\n",
      "...                   ...           ...\n",
      "2007 Americas   73.400485  11940.901644\n",
      "     Asia       70.660233  15338.057326\n",
      "     Europe     77.299059  24174.152973\n",
      "     FSU        69.457333   9522.539346\n",
      "     Oceania    71.315000  13156.978742\n",
      "\n",
      "[286 rows x 2 columns]\n"
     ]
    }
   ],
   "source": [
    "print(multi_group_var)"
   ]
  },
  {
   "cell_type": "code",
   "execution_count": 41,
   "id": "8aa49f04",
   "metadata": {},
   "outputs": [
    {
     "data": {
      "text/html": [
       "<div>\n",
       "<style scoped>\n",
       "    .dataframe tbody tr th:only-of-type {\n",
       "        vertical-align: middle;\n",
       "    }\n",
       "\n",
       "    .dataframe tbody tr th {\n",
       "        vertical-align: top;\n",
       "    }\n",
       "\n",
       "    .dataframe thead th {\n",
       "        text-align: right;\n",
       "    }\n",
       "</style>\n",
       "<table border=\"1\" class=\"dataframe\">\n",
       "  <thead>\n",
       "    <tr style=\"text-align: right;\">\n",
       "      <th></th>\n",
       "      <th>year</th>\n",
       "      <th>continent</th>\n",
       "      <th>lifeExp</th>\n",
       "      <th>gdpPercap</th>\n",
       "    </tr>\n",
       "  </thead>\n",
       "  <tbody>\n",
       "    <tr>\n",
       "      <th>0</th>\n",
       "      <td>1950</td>\n",
       "      <td>Africa</td>\n",
       "      <td>41.361500</td>\n",
       "      <td>1422.081643</td>\n",
       "    </tr>\n",
       "    <tr>\n",
       "      <th>1</th>\n",
       "      <td>1950</td>\n",
       "      <td>Americas</td>\n",
       "      <td>59.405286</td>\n",
       "      <td>5567.245762</td>\n",
       "    </tr>\n",
       "    <tr>\n",
       "      <th>2</th>\n",
       "      <td>1950</td>\n",
       "      <td>Asia</td>\n",
       "      <td>53.675000</td>\n",
       "      <td>1363.645814</td>\n",
       "    </tr>\n",
       "    <tr>\n",
       "      <th>3</th>\n",
       "      <td>1950</td>\n",
       "      <td>Europe</td>\n",
       "      <td>65.755916</td>\n",
       "      <td>6804.996873</td>\n",
       "    </tr>\n",
       "    <tr>\n",
       "      <th>4</th>\n",
       "      <td>1950</td>\n",
       "      <td>FSU</td>\n",
       "      <td>59.950000</td>\n",
       "      <td>3638.203164</td>\n",
       "    </tr>\n",
       "    <tr>\n",
       "      <th>5</th>\n",
       "      <td>1950</td>\n",
       "      <td>Oceania</td>\n",
       "      <td>69.155000</td>\n",
       "      <td>10740.248840</td>\n",
       "    </tr>\n",
       "    <tr>\n",
       "      <th>6</th>\n",
       "      <td>1951</td>\n",
       "      <td>Americas</td>\n",
       "      <td>68.385000</td>\n",
       "      <td>12317.446265</td>\n",
       "    </tr>\n",
       "    <tr>\n",
       "      <th>7</th>\n",
       "      <td>1951</td>\n",
       "      <td>Asia</td>\n",
       "      <td>58.045000</td>\n",
       "      <td>2020.011385</td>\n",
       "    </tr>\n",
       "    <tr>\n",
       "      <th>8</th>\n",
       "      <td>1951</td>\n",
       "      <td>Europe</td>\n",
       "      <td>66.164444</td>\n",
       "      <td>6822.317167</td>\n",
       "    </tr>\n",
       "    <tr>\n",
       "      <th>9</th>\n",
       "      <td>1951</td>\n",
       "      <td>Oceania</td>\n",
       "      <td>68.940000</td>\n",
       "      <td>10261.862410</td>\n",
       "    </tr>\n",
       "    <tr>\n",
       "      <th>10</th>\n",
       "      <td>1952</td>\n",
       "      <td>Africa</td>\n",
       "      <td>39.311811</td>\n",
       "      <td>1240.160422</td>\n",
       "    </tr>\n",
       "    <tr>\n",
       "      <th>11</th>\n",
       "      <td>1952</td>\n",
       "      <td>Americas</td>\n",
       "      <td>53.279840</td>\n",
       "      <td>4079.062552</td>\n",
       "    </tr>\n",
       "    <tr>\n",
       "      <th>12</th>\n",
       "      <td>1952</td>\n",
       "      <td>Asia</td>\n",
       "      <td>46.314394</td>\n",
       "      <td>5195.484004</td>\n",
       "    </tr>\n",
       "    <tr>\n",
       "      <th>13</th>\n",
       "      <td>1952</td>\n",
       "      <td>Europe</td>\n",
       "      <td>64.457258</td>\n",
       "      <td>5940.576156</td>\n",
       "    </tr>\n",
       "    <tr>\n",
       "      <th>14</th>\n",
       "      <td>1952</td>\n",
       "      <td>Oceania</td>\n",
       "      <td>69.255000</td>\n",
       "      <td>10298.085650</td>\n",
       "    </tr>\n",
       "  </tbody>\n",
       "</table>\n",
       "</div>"
      ],
      "text/plain": [
       "    year continent    lifeExp     gdpPercap\n",
       "0   1950    Africa  41.361500   1422.081643\n",
       "1   1950  Americas  59.405286   5567.245762\n",
       "2   1950      Asia  53.675000   1363.645814\n",
       "3   1950    Europe  65.755916   6804.996873\n",
       "4   1950       FSU  59.950000   3638.203164\n",
       "5   1950   Oceania  69.155000  10740.248840\n",
       "6   1951  Americas  68.385000  12317.446265\n",
       "7   1951      Asia  58.045000   2020.011385\n",
       "8   1951    Europe  66.164444   6822.317167\n",
       "9   1951   Oceania  68.940000  10261.862410\n",
       "10  1952    Africa  39.311811   1240.160422\n",
       "11  1952  Americas  53.279840   4079.062552\n",
       "12  1952      Asia  46.314394   5195.484004\n",
       "13  1952    Europe  64.457258   5940.576156\n",
       "14  1952   Oceania  69.255000  10298.085650"
      ]
     },
     "execution_count": 41,
     "metadata": {},
     "output_type": "execute_result"
    }
   ],
   "source": [
    "flat = multi_group_var.reset_index()\n",
    "flat.head(15)                          #if you need to'flatten' the above (In [40]) datafram, you can use the reset_index method"
   ]
  },
  {
   "cell_type": "code",
   "execution_count": 42,
   "id": "a0d5192b",
   "metadata": {},
   "outputs": [
    {
     "name": "stdout",
     "output_type": "stream",
     "text": [
      "continent\n",
      "Africa      53\n",
      "Americas    36\n",
      "Asia        43\n",
      "Europe      35\n",
      "FSU          9\n",
      "Oceania     11\n",
      "Name: country, dtype: int64\n"
     ]
    }
   ],
   "source": [
    "print(df.groupby('continent')['country'].nunique())"
   ]
  },
  {
   "cell_type": "code",
   "execution_count": 46,
   "id": "6bd647a1",
   "metadata": {},
   "outputs": [],
   "source": [
    "global_yearly_life_expectancy = df.groupby('year')['lifeExp'].mean()"
   ]
  },
  {
   "cell_type": "code",
   "execution_count": 47,
   "id": "46bffba8",
   "metadata": {},
   "outputs": [
    {
     "data": {
      "text/plain": [
       "year\n",
       "1950    62.002568\n",
       "1951    65.904167\n",
       "1952    49.170708\n",
       "1953    66.674563\n",
       "1954    67.459817\n",
       "1955    67.806757\n",
       "1956    67.950637\n",
       "1957    51.614590\n",
       "1958    68.815936\n",
       "1959    68.226579\n",
       "1960    68.470837\n",
       "1961    68.862480\n",
       "1962    54.035234\n",
       "1963    69.595735\n",
       "1964    70.063105\n",
       "1965    70.259881\n",
       "1966    70.447526\n",
       "1967    56.263629\n",
       "1968    70.689081\n",
       "1969    70.653896\n",
       "1970    70.961141\n",
       "1971    71.103976\n",
       "1972    58.474481\n",
       "1973    71.500338\n",
       "1974    71.778504\n",
       "1975    71.939218\n",
       "1976    72.158050\n",
       "1977    60.429090\n",
       "1978    72.717567\n",
       "1979    73.018717\n",
       "1980    73.064524\n",
       "1981    73.337399\n",
       "1982    62.365871\n",
       "1983    73.787778\n",
       "1984    74.100741\n",
       "1985    74.112222\n",
       "1986    74.452222\n",
       "1987    63.984860\n",
       "1988    74.760000\n",
       "1989    74.924444\n",
       "1990    74.283438\n",
       "1991    74.374848\n",
       "1992    65.008443\n",
       "1993    74.324545\n",
       "1994    74.456667\n",
       "1995    74.552727\n",
       "1996    75.029394\n",
       "1997    65.873799\n",
       "1998    75.569697\n",
       "1999    75.703636\n",
       "2000    76.026364\n",
       "2001    76.257879\n",
       "2002    66.835695\n",
       "2003    76.586667\n",
       "2004    76.921562\n",
       "2005    76.718667\n",
       "2006    77.887778\n",
       "2007    67.868557\n",
       "Name: lifeExp, dtype: float64"
      ]
     },
     "execution_count": 47,
     "metadata": {},
     "output_type": "execute_result"
    }
   ],
   "source": [
    "global_yearly_life_expectancy"
   ]
  },
  {
   "cell_type": "code",
   "execution_count": 52,
   "id": "d1bd857a",
   "metadata": {},
   "outputs": [
    {
     "data": {
      "text/plain": [
       "<AxesSubplot:xlabel='year'>"
      ]
     },
     "execution_count": 52,
     "metadata": {},
     "output_type": "execute_result"
    },
    {
     "data": {
      "image/png": "[encoded data removed]",
      "text/plain": [
       "<Figure size 640x480 with 1 Axes>"
      ]
     },
     "metadata": {},
     "output_type": "display_data"
    }
   ],
   "source": [
    "global_yearly_life_expectancy.plot()"
   ]
  },
  {
   "cell_type": "code",
   "execution_count": null,
   "id": "a26d866c",
   "metadata": {},
   "outputs": [],
   "source": []
  }
 ],
 "metadata": {
  "kernelspec": {
   "display_name": "Python 3 (ipykernel)",
   "language": "python",
   "name": "python3"
  },
  "language_info": {
   "codemirror_mode": {
    "name": "ipython",
    "version": 3
   },
   "file_extension": ".py",
   "mimetype": "text/x-python",
   "name": "python",
   "nbconvert_exporter": "python",
   "pygments_lexer": "ipython3",
   "version": "3.9.13"
  }
 },
 "nbformat": 4,
 "nbformat_minor": 5
}
